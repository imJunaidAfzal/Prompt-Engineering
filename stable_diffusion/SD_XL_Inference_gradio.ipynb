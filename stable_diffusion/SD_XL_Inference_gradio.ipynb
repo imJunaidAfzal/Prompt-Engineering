{
  "nbformat": 4,
  "nbformat_minor": 0,
  "metadata": {
    "colab": {
      "provenance": [],
      "gpuType": "T4"
    },
    "kernelspec": {
      "name": "python3",
      "display_name": "Python 3"
    },
    "language_info": {
      "name": "python"
    },
    "accelerator": "GPU"
  },
  "cells": [
    {
      "cell_type": "markdown",
      "source": [
        "# GUI base demo of Stable Diffusion by [Junaid Afzal](https://github.com/imJunaidAfzal)\n",
        "## You wil get Live url after running, click and enjoy sd-xl free.\n",
        "\n",
        "### Note: If you get any dependancy error, restart runtime after running setup section."
      ],
      "metadata": {
        "id": "TbGX-QkBtdsp"
      }
    },
    {
      "cell_type": "markdown",
      "source": [
        "# Setup"
      ],
      "metadata": {
        "id": "w60ZymtrXdTe"
      }
    },
    {
      "cell_type": "markdown",
      "source": [
        "## Deps"
      ],
      "metadata": {
        "id": "ztF_dNUDtBcv"
      }
    },
    {
      "cell_type": "code",
      "source": [
        "!pip install invisible_watermark transformers accelerate safetensors"
      ],
      "metadata": {
        "id": "d4DXKiPkuWiO"
      },
      "execution_count": null,
      "outputs": []
    },
    {
      "cell_type": "code",
      "source": [
        "!pip install diffusers"
      ],
      "metadata": {
        "id": "IZH4W-bScJXn"
      },
      "execution_count": null,
      "outputs": []
    },
    {
      "cell_type": "code",
      "source": [
        "!pip install omegaconf"
      ],
      "metadata": {
        "id": "0Z5LDki-cJaX"
      },
      "execution_count": null,
      "outputs": []
    },
    {
      "cell_type": "code",
      "source": [
        "!pip install gradio"
      ],
      "metadata": {
        "id": "UQoD9veJesae"
      },
      "execution_count": null,
      "outputs": []
    },
    {
      "cell_type": "markdown",
      "source": [
        "## Project structure"
      ],
      "metadata": {
        "id": "0PLYwbhLtDg2"
      }
    },
    {
      "cell_type": "code",
      "source": [
        "# Dont Change this\n",
        "import os\n",
        "if not os.path.exists(\"/content/images\"):\n",
        "    os.mkdir(\"/content/images\")\n",
        "\n",
        "!wget -O \"/content/images/error.png\" https://raw.githubusercontent.com/imJunaidAfzal/Prompt-Engineering/main/images/error.png\n"
      ],
      "metadata": {
        "id": "54Flhc9rcJdH"
      },
      "execution_count": null,
      "outputs": []
    },
    {
      "cell_type": "markdown",
      "source": [
        "# SD-XL Pipeline code"
      ],
      "metadata": {
        "id": "58HyPPMZcmb2"
      }
    },
    {
      "cell_type": "code",
      "source": [
        "from diffusers import DiffusionPipeline\n",
        "import torch\n",
        "from diffusers import (\n",
        "    DDIMScheduler,\n",
        "    DPMSolverSinglestepScheduler,\n",
        "    DDPMScheduler,\n",
        "    EulerAncestralDiscreteScheduler,\n",
        "    HeunDiscreteScheduler,\n",
        "    KDPM2AncestralDiscreteScheduler,\n",
        "    LMSDiscreteScheduler,\n",
        "    UniPCMultistepScheduler,\n",
        "    KDPM2DiscreteScheduler,\n",
        "    DEISMultistepScheduler,\n",
        "    DPMSolverSDEScheduler,\n",
        "    PNDMScheduler,\n",
        "    EulerDiscreteScheduler,\n",
        "    DPMSolverMultistepScheduler\n",
        ")\n",
        "\n",
        "pipe = DiffusionPipeline.from_pretrained(\n",
        "    \"stabilityai/stable-diffusion-xl-base-1.0\",\n",
        "    torch_dtype=torch.float16,\n",
        "    use_safetensors=True,\n",
        "    variant=\"fp16\"\n",
        ")\n",
        "pipe.to(\"cuda\")"
      ],
      "metadata": {
        "id": "yJWELIulcp82"
      },
      "execution_count": null,
      "outputs": []
    },
    {
      "cell_type": "code",
      "source": [
        "import gradio as gr\n",
        "from PIL import Image\n",
        "# Create a dictionary of scheduler names and their corresponding classes\n",
        "scheduler_classes = {\n",
        "    \"DDIM Scheduler\": DDIMScheduler,\n",
        "    \"DPMSolverSinglestep Scheduler\": DPMSolverSinglestepScheduler,\n",
        "    \"DDPMScheduler\": DDPMScheduler,\n",
        "    \"EulerAncestralDiscrete Scheduler\": EulerAncestralDiscreteScheduler,\n",
        "    \"HeunDiscrete Scheduler\": HeunDiscreteScheduler,\n",
        "    \"KDPM2AncestralDiscrete Scheduler\": KDPM2AncestralDiscreteScheduler,\n",
        "    \"LMSDiscrete Scheduler\": LMSDiscreteScheduler,\n",
        "    \"UniPCMultistep Scheduler\": UniPCMultistepScheduler,\n",
        "    \"KDPM2Discrete Scheduler\": KDPM2DiscreteScheduler,\n",
        "    \"DEISMultistep Scheduler\": DEISMultistepScheduler,\n",
        "    \"DPMSolverSDE Scheduler\": DPMSolverSDEScheduler,\n",
        "    \"PNDMScheduler\": PNDMScheduler,\n",
        "    \"EulerDiscrete Scheduler\": EulerDiscreteScheduler,\n",
        "    \"DPMSolverMultistep Scheduler\": DPMSolverMultistepScheduler\n",
        "}\n",
        "def generate_image(prompt, negative_prompt, width, height, num_inference_steps, seed, guidance_scale, scheduler_name):\n",
        "    try:\n",
        "        scheduler_class = scheduler_classes[scheduler_name]\n",
        "        generator = torch.Generator(device=\"cuda\").manual_seed(seed)\n",
        "        pipe.scheduler = scheduler_classes[scheduler_name].from_config(pipe.scheduler.config)\n",
        "        image = pipe(\n",
        "            prompt=prompt,\n",
        "            negative_prompt=negative_prompt,\n",
        "            width=width,\n",
        "            height=height,\n",
        "            num_inference_steps=num_inference_steps,\n",
        "            generator=generator,\n",
        "            guidance_scale=guidance_scale\n",
        "        )\n",
        "        # image.images[0]\n",
        "\n",
        "        # Add your code here to generate the image using the selected scheduler class\n",
        "        # You'll need to create an instance of the selected scheduler class and use it for image generation.\n",
        "\n",
        "        return \"OK\", image.images[0]\n",
        "    except Exception as exp:\n",
        "        return str(exp), Image.open(\"/content/images/error.png\")\n",
        "\n",
        "with gr.Blocks() as ui:\n",
        "    with gr.Row():\n",
        "            gr.Markdown(\"<center><h1>SD-XL Demo</h1></center>\")\n",
        "    with gr.Row():\n",
        "\n",
        "        with gr.Column():\n",
        "            with gr.Group():\n",
        "                with gr.Row():\n",
        "                    prompt = gr.components.Textbox(label=\"Prompt\")\n",
        "                with gr.Row():\n",
        "                    negative_Prompt = gr.components.Textbox(label=\"Negative Prompt\")\n",
        "                with gr.Row():\n",
        "                    width = gr.components.Slider(label=\"Width\", minimum=1, maximum=2024, step=1, value=1024, interactive=True)\n",
        "                    height = gr.components.Slider(label=\"Height\", minimum=1, maximum=2024, step=1, value=1024, interactive=True)\n",
        "                with gr.Row():\n",
        "                    inference_steps = gr.components.Slider(label=\"Number of Inference Steps\", minimum=1, maximum=500, value=30, step=1, interactive=True)\n",
        "                with gr.Row():\n",
        "                    seed = gr.components.Slider(label=\"Seed\", minimum=1, maximum=9999999999999, step=1, interactive=True)\n",
        "                with gr.Row():\n",
        "                    guidance_scale = gr.components.Slider(label=\"Guidance Scale\", minimum=0, maximum=20, step=0.01, value=7.5, interactive=True)\n",
        "                with gr.Row():\n",
        "                    scheduler = gr.components.Dropdown(label=\"Select Scheduler\", choices=list(scheduler_classes.keys()), value=\"EulerAncestralDiscrete Scheduler\", interactive=True)\n",
        "                with gr.Row():\n",
        "                    gen_button = gr.Button(\"Generate Image\")\n",
        "\n",
        "        with gr.Column():\n",
        "            image_output = gr.Image(interactive=False)\n",
        "            status = gr.components.Textbox(label=\"Status\", interactive=False)\n",
        "\n",
        "        with gr.Column():\n",
        "            gen_button.click(\n",
        "                fn=generate_image,\n",
        "                inputs=[prompt, negative_Prompt, width, height, inference_steps, seed, guidance_scale, scheduler],\n",
        "                outputs=[status, image_output]\n",
        "            )\n",
        "\n",
        "\n",
        "ui.launch(share=True, debug=True)\n"
      ],
      "metadata": {
        "id": "h8sEiZuFeZl_"
      },
      "execution_count": null,
      "outputs": []
    },
    {
      "cell_type": "code",
      "source": [],
      "metadata": {
        "id": "IEeZRqCqrAAf"
      },
      "execution_count": null,
      "outputs": []
    }
  ]
}